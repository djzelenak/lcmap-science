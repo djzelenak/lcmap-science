{
 "cells": [
  {
   "cell_type": "code",
   "execution_count": null,
   "metadata": {},
   "outputs": [],
   "source": [
    "%matplotlib inline\n",
    "import pandas as pd\n",
    "import numpy as np\n",
    "import datetime as dt\n",
    "import matplotlib.pyplot as plt\n",
    "# import seaborn as sns\n",
    "from collections import OrderedDict\n",
    "\n",
    "# Read from accompanying data_tools.py script contained in same working directory\n",
    "import data_tools as tools"
   ]
  },
  {
   "cell_type": "markdown",
   "metadata": {},
   "source": [
    "### Specify the CSV file containing the data to analyze\n"
   ]
  },
  {
   "cell_type": "code",
   "execution_count": null,
   "metadata": {},
   "outputs": [],
   "source": [
    "in_csv = input(\"Full path to TAP-exported .csv file: \")"
   ]
  },
  {
   "cell_type": "markdown",
   "metadata": {},
   "source": [
    "### Read in the data"
   ]
  },
  {
   "cell_type": "code",
   "execution_count": null,
   "metadata": {},
   "outputs": [],
   "source": [
    "data = pd.read_csv(in_csv, parse_dates=['dates'], infer_datetime_format=True).drop(columns='Unnamed: 0')"
   ]
  },
  {
   "cell_type": "markdown",
   "metadata": {},
   "source": [
    "### Show a preview of the data frame"
   ]
  },
  {
   "cell_type": "code",
   "execution_count": null,
   "metadata": {},
   "outputs": [],
   "source": [
    "data.head()"
   ]
  },
  {
   "cell_type": "markdown",
   "metadata": {},
   "source": [
    "### Demo for pulling all data annually between June and August with a cloud-filtering mask applied"
   ]
  },
  {
   "cell_type": "code",
   "execution_count": null,
   "metadata": {},
   "outputs": [],
   "source": [
    "tools.mask(tools.dates(data, (dt.datetime(1985, 6, 1), dt.datetime(1985,8, 31))))"
   ]
  },
  {
   "cell_type": "markdown",
   "metadata": {},
   "source": [
    "### Get Mean Annual MSAVI for June-July-August"
   ]
  },
  {
   "cell_type": "markdown",
   "metadata": {},
   "source": [
    "#### This cell applies the filters demonstrated above and creates a new data frame"
   ]
  },
  {
   "cell_type": "code",
   "execution_count": null,
   "metadata": {},
   "outputs": [],
   "source": [
    "params = {'start_mon': 6,\n",
    "          \n",
    "          'start_day': 1,\n",
    "          \n",
    "          'end_mon': 8,\n",
    "         \n",
    "          'end_day': 31,\n",
    "         \n",
    "          'field': 'msavi',\n",
    "         \n",
    "          'mask_field': 'qa'}\n",
    "\n",
    "msavi = tools.get_seasonal_info(data, params)"
   ]
  },
  {
   "cell_type": "markdown",
   "metadata": {},
   "source": [
    "### Change the params 'field' value to get additional indices (if available from plotting)"
   ]
  },
  {
   "cell_type": "code",
   "execution_count": null,
   "metadata": {},
   "outputs": [],
   "source": [
    "# params = {'start_mon': 6,\n",
    "#          'start_d': 1,\n",
    "#          'end_mon': 8,\n",
    "#          'end_d': 31,\n",
    "#          'field': 'ndvi',\n",
    "#          'mask_field': 'qa'}\n",
    "\n",
    "# ndvi = tools.get_seasonal_info(data, params)"
   ]
  },
  {
   "cell_type": "code",
   "execution_count": null,
   "metadata": {},
   "outputs": [],
   "source": [
    "# params = {'start_mon': 6,\n",
    "#          'start_d': 1,\n",
    "#          'end_mon': 8,\n",
    "#          'end_d': 31,\n",
    "#          'field': 'evi',\n",
    "#          'mask_field': 'qa'}\n",
    "\n",
    "# evi = tools.get_seasonal_info(data, params)"
   ]
  },
  {
   "cell_type": "code",
   "execution_count": null,
   "metadata": {},
   "outputs": [],
   "source": [
    "# params = {'start_mon': 6,\n",
    "#          'start_d': 1,\n",
    "#          'end_mon': 8,\n",
    "#          'end_d': 31,\n",
    "#          'field': 'savi',\n",
    "#          'mask_field': 'qa'}\n",
    "\n",
    "# savi = tools.get_seasonal_info(data, params)"
   ]
  },
  {
   "cell_type": "code",
   "execution_count": null,
   "metadata": {},
   "outputs": [],
   "source": []
  },
  {
   "cell_type": "code",
   "execution_count": null,
   "metadata": {},
   "outputs": [],
   "source": [
    "plt.style.use('ggplot')\n",
    "\n",
    "fig = plt.figure(figsize=(10,4), dpi=100)\n",
    "\n",
    "ax = fig.add_subplot(111)\n",
    "\n",
    "plt.xticks(tools.years(data), rotation=45, fontsize=8)\n",
    "\n",
    "plt.xlim(tools.years(data)[0], tools.years(data)[-1])\n",
    "\n",
    "# l = ax.plot(*plot_data(ndvi, 'max'), alpha=0.0)\n",
    "\n",
    "\n",
    "\n",
    "# ax.fill_between(*plot_data(ndvi, 'max'), interpolate=True, color='darkgreen', alpha=0.7, label='NDVI')\n",
    "\n",
    "# ax.fill_between(*plot_data(evi, 'max'), interpolate=True, color='c', alpha=0.7, label='EVI')\n",
    "\n",
    "# ax.fill_between(*plot_data(savi, 'max'), interpolate=True, color='orange', alpha=0.7, label='SAVI')\n",
    "\n",
    "ax.fill_between(*tools.plot_data(msavi, 'max'), interpolate=True, color='coral', alpha=0.7, label='MSAVI')\n",
    "\n",
    "plt.suptitle(\"Maximum Annual Vegetation Indices for Summer Growing Months (June 1 - Aug 31)\")\n",
    "\n",
    "plt.legend(loc=(1, .7))\n",
    "\n",
    "plt.show()"
   ]
  },
  {
   "cell_type": "code",
   "execution_count": null,
   "metadata": {},
   "outputs": [],
   "source": [
    "plt.style.use('ggplot')\n",
    "\n",
    "fig = plt.figure(figsize=(10,4), dpi=100)\n",
    "\n",
    "ax = fig.add_subplot(111)\n",
    "\n",
    "plt.xlim(tools.years(data)[0], tools.years(data)[-1])\n",
    "\n",
    "plt.xticks(tools.years(data), rotation=45, fontsize=8)\n",
    "\n",
    "# plt.plot(*plot_data(evi), '-o', ms=4, color='darkgreen')\n",
    "\n",
    "\n",
    "# ax.fill_between(*tools.plot_data(ndvi, 'mean'), interpolate=True, color='darkgreen', alpha=0.7, label='NDVI')\n",
    "\n",
    "# ax.fill_between(*tools.plot_data(evi, 'mean'), interpolate=True, color='c', alpha=0.7, label='EVI')\n",
    "\n",
    "# ax.fill_between(*tools.plot_data(savi, 'mean'), interpolate=True, color='orange', alpha=0.7, label='SAVI')\n",
    "\n",
    "ax.fill_between(*tools.plot_data(msavi, 'mean'), interpolate=True, color='coral', alpha=0.7, label='MSAVI')\n",
    "plt.legend(loc=(1, 0.7))\n",
    "\n",
    "plt.suptitle(\"Mean Annual Vegetation Indices for Summer Growing Months\")\n"
   ]
  },
  {
   "cell_type": "markdown",
   "metadata": {},
   "source": [
    "### Get the spectral signature for a target land cover"
   ]
  },
  {
   "cell_type": "code",
   "execution_count": null,
   "metadata": {},
   "outputs": [],
   "source": [
    "in_csv = r'C:\\Users\\dzelenak\\lcmap_tap\\20180911-145646\\20180911-145857_-602325_2323485.csv'"
   ]
  },
  {
   "cell_type": "code",
   "execution_count": null,
   "metadata": {},
   "outputs": [],
   "source": [
    "data = pd.read_csv(in_csv, parse_dates=['dates'], infer_datetime_format=True).drop(columns='Unnamed: 0')"
   ]
  },
  {
   "cell_type": "code",
   "execution_count": null,
   "metadata": {},
   "outputs": [],
   "source": [
    "data.head()"
   ]
  },
  {
   "cell_type": "code",
   "execution_count": null,
   "metadata": {},
   "outputs": [],
   "source": [
    "params = {'start_mon': 6,\n",
    "         'start_d': 1,\n",
    "         'end_mon': 8,\n",
    "         'end_d': 31,\n",
    "         'field': 'blues',\n",
    "         'mask_field': 'qa'}\n",
    "\n",
    "blues = tools.get_seasonal_info(data, params)"
   ]
  },
  {
   "cell_type": "code",
   "execution_count": null,
   "metadata": {},
   "outputs": [],
   "source": [
    "params = {'start_mon': 6,\n",
    "         'start_d': 1,\n",
    "         'end_mon': 8,\n",
    "         'end_d': 31,\n",
    "         'field': 'greens',\n",
    "         'mask_field': 'qa'}\n",
    "\n",
    "greens = tools.get_seasonal_info(data, params)"
   ]
  },
  {
   "cell_type": "code",
   "execution_count": null,
   "metadata": {},
   "outputs": [],
   "source": [
    "params = {'start_mon': 6,\n",
    "         'start_d': 1,\n",
    "         'end_mon': 8,\n",
    "         'end_d': 31,\n",
    "         'field': 'reds',\n",
    "         'mask_field': 'qa'}\n",
    "\n",
    "reds = tools.get_seasonal_info(data, params)"
   ]
  },
  {
   "cell_type": "code",
   "execution_count": null,
   "metadata": {},
   "outputs": [],
   "source": [
    "params = {'start_mon': 6,\n",
    "         'start_d': 1,\n",
    "         'end_mon': 8,\n",
    "         'end_d': 31,\n",
    "         'field': 'nirs',\n",
    "         'mask_field': 'qa'}\n",
    "\n",
    "nirs = tools.get_seasonal_info(data, params)"
   ]
  },
  {
   "cell_type": "code",
   "execution_count": null,
   "metadata": {},
   "outputs": [],
   "source": [
    "params = {'start_mon': 6,\n",
    "         'start_d': 1,\n",
    "         'end_mon': 8,\n",
    "         'end_d': 31,\n",
    "         'field': 'swir1s',\n",
    "         'mask_field': 'qa'}\n",
    "\n",
    "swir1s = tools.get_seasonal_info(data, params)"
   ]
  },
  {
   "cell_type": "code",
   "execution_count": null,
   "metadata": {},
   "outputs": [],
   "source": [
    "params = {'start_mon': 6,\n",
    "         'start_d': 1,\n",
    "         'end_mon': 8,\n",
    "         'end_d': 31,\n",
    "         'field': 'swir2s',\n",
    "         'mask_field': 'qa'}\n",
    "\n",
    "swir2s = tools.get_seasonal_info(data, params)"
   ]
  },
  {
   "cell_type": "code",
   "execution_count": null,
   "metadata": {},
   "outputs": [],
   "source": [
    "fig, ax = plt.subplots(figsize=(8, 4), dpi=100)\n",
    "\n",
    "ax.plot(*plot_data(blues, 'mean'), 'blue', label='Blue')\n",
    "ax.plot(*plot_data(greens, 'mean'), 'green', label='Green')\n",
    "ax.plot(*plot_data(reds, 'mean'), 'red', label='Red')\n",
    "ax.plot(*plot_data(nirs, 'mean'), 'darkred', label='NIR')\n",
    "ax.plot(*plot_data(swir1s, 'mean'), 'orange', label='SWIR-1')\n",
    "ax.plot(*plot_data(swir2s, 'mean'), 'purple', label='SWIR-2')\n",
    "\n",
    "\n",
    "\n",
    "plt.suptitle('Annual Mean Spectral Signature for Summer Growing Months')\n",
    "\n",
    "plt.legend(loc=(1, 0.55))\n",
    "\n"
   ]
  },
  {
   "cell_type": "code",
   "execution_count": null,
   "metadata": {},
   "outputs": [],
   "source": [
    "plt.style.use('ggplot')\n",
    "\n",
    "fig, ax1 = plt.subplots()\n",
    "\n",
    "fig.suptitle(\"Mean Annual Vegetation Indices and Surface Reflectance for Summer Growing Months\", x=0.5, y=0.9)\n",
    "\n",
    "fig.set_size_inches((14, 8))\n",
    "\n",
    "plt.xticks(years(data), rotation=45, fontsize=8)\n",
    "\n",
    "plt.xlim(years(data)[0], years(data)[-1] + 1)\n",
    "\n",
    "ax1.fill_between(*plot_data(ndvi, 'mean'), interpolate=True, color='darkgreen', alpha=0.7, label='NDVI')\n",
    "\n",
    "ax1.fill_between(*plot_data(evi, 'mean'), interpolate=True, color='c', alpha=0.7, label='EVI')\n",
    "\n",
    "ax1.fill_between(*plot_data(savi, 'mean'), interpolate=True, color='orange', alpha=0.7, label='SAVI')\n",
    "\n",
    "ax1.fill_between(*plot_data(msavi, 'mean'), interpolate=True, color='coral', alpha=0.7, label='MSAVI')\n",
    "\n",
    "ax1.set_xlabel('Year')\n",
    "\n",
    "ax1.set_ylabel('Index Value', color='g')\n",
    "ax1.tick_params('y', colors='g')\n",
    "\n",
    "plt.legend(loc='upper left', bbox_to_anchor=(0, 1), framealpha=0.6)\n",
    "\n",
    "plt.style.use('default')\n",
    "\n",
    "ax2 = ax1.twinx()\n",
    "\n",
    "ax2.plot(*plot_data(blues, 'mean'), 'blue', label='Blue', marker='^')\n",
    "ax2.plot(*plot_data(greens, 'mean'), 'green', label='Green', marker='v')\n",
    "ax2.plot(*plot_data(reds, 'mean'), 'red', label='Red', marker='D', ms=6)\n",
    "ax2.plot(*plot_data(nirs, 'mean'), 'darkred', label='NIR', marker='s')\n",
    "ax2.plot(*plot_data(swir1s, 'mean'), 'orange', label='SWIR-1', marker='d', ms=6)\n",
    "ax2.plot(*plot_data(swir2s, 'mean'), 'purple', label='SWIR-2', marker='o')\n",
    "\n",
    "ax2.set_ylabel('Reflectance', color='b')\n",
    "ax2.tick_params('y', colors='b')\n",
    "\n",
    "plt.legend(loc='upper right', bbox_to_anchor=(1, 1), framealpha=0.6)\n",
    "\n",
    "plt.show()"
   ]
  },
  {
   "cell_type": "code",
   "execution_count": null,
   "metadata": {},
   "outputs": [],
   "source": [
    "_ndvi = pd.DataFrame(ndvi).transpose()"
   ]
  },
  {
   "cell_type": "code",
   "execution_count": null,
   "metadata": {},
   "outputs": [],
   "source": [
    "_ndvi['years'] = years(data)"
   ]
  },
  {
   "cell_type": "code",
   "execution_count": null,
   "metadata": {},
   "outputs": [],
   "source": [
    "_ndvi.columns"
   ]
  },
  {
   "cell_type": "code",
   "execution_count": null,
   "metadata": {},
   "outputs": [],
   "source": [
    "sns.violinplot(data=_ndvi.drop(columns=['years']))"
   ]
  },
  {
   "cell_type": "code",
   "execution_count": null,
   "metadata": {},
   "outputs": [],
   "source": []
  }
 ],
 "metadata": {
  "kernelspec": {
   "display_name": "Python 3",
   "language": "python",
   "name": "python3"
  },
  "language_info": {
   "codemirror_mode": {
    "name": "ipython",
    "version": 3
   },
   "file_extension": ".py",
   "mimetype": "text/x-python",
   "name": "python",
   "nbconvert_exporter": "python",
   "pygments_lexer": "ipython3",
   "version": "3.6.7"
  }
 },
 "nbformat": 4,
 "nbformat_minor": 2
}
